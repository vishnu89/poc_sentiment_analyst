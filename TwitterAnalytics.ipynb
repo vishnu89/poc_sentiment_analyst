{
 "cells": [
  {
   "cell_type": "code",
   "execution_count": 1,
   "metadata": {
    "collapsed": false
   },
   "outputs": [
    {
     "name": "stdout",
     "output_type": "stream",
     "text": [
      "Created `%t` as an alias for `%timeit`.\nCreated `%%t` as an alias for `%%timeit`.\n"
     ]
    }
   ],
   "source": [
    "%alias_magic t timeit\n",
    "%matplotlib inline\n",
    "import json,io\n",
    "import matplotlib.pyplot as plt\n",
    "import pandas as pd\n",
    "import numpy as np\n",
    "import os,sys\n",
    "from twitter_analytics_api import *\n",
    "from datetime import datetime as dt\n",
    "# Import unquote to prevent url encoding errors in next_results\n",
    "from urllib import unquote\n",
    "sys.path.append(os.getcwd()) #sys.argv[0]\n",
    "\n",
    "# pandas settings \n",
    "pd.set_option('expand_frame_repr', False)\n",
    "pd.options.display.max_columns = 15\n",
    "pd.options.display.max_rows = 25\n",
    "pd.set_option('max_colwidth', 30)\n",
    "pd.set_option('colheader_justify', 'center')\n",
    "dfm = pd.DataFrame\n",
    "\n",
    "timer = lambda: '%s_%s_%s'%dt.utctimetuple(dt.now())[3:6]\n",
    "file_ext = lambda x: dict(to_json='.json',to_csv='.csv',to_excel='.xlsx').get(x,'')"
   ]
  },
  {
   "cell_type": "code",
   "execution_count": 37,
   "metadata": {
    "collapsed": true
   },
   "outputs": [],
   "source": [
    "world_trends = tweet.trends(1,output_format='to_json')\n",
    "tweet.save()\n",
    "\n",
    "world_trends = tweet.trends(1,output_format='to_json')\n",
    "tweet.save(world_trends)\n",
    "# print json.dumps(world_trends, )\n",
    "\n",
    "# US_WOE_ID = 23424977\n",
    "# us_trends = tweet.trends(US_WOE_ID)\n",
    "# print json.dumps(us_trends, indent=1)"
   ]
  },
  {
   "cell_type": "code",
   "execution_count": 8,
   "metadata": {
    "collapsed": true
   },
   "outputs": [],
   "source": [
    "# Sample usage\n",
    "q = \"surgical strike\"\n",
    "# results = tweet.search(q, max_results=1000,output_format='to_data_frame')\n",
    "# tweet.save()\n",
    "# \n",
    "results = tweet.search(q, max_results=1000,output_format='to_json')\n",
    "tweet.save()"
   ]
  },
  {
   "cell_type": "code",
   "execution_count": 3,
   "metadata": {
    "collapsed": false
   },
   "outputs": [],
   "source": [
    "pproc = lambda x: ',,,'.join(x).lower()\n",
    "src = r'''\n",
    "\n",
    "\n",
    "\n",
    "D:\\intel\\intel\\webCrawler\\twitter_ana\\uint_7\\Mining-the-Social-Web-2nd-Edition-master\\ipynb\\default\\20_54_26_search_surgical strike.json\n",
    "\n",
    "\n",
    "\n",
    "\n",
    "'''\n",
    "src = src.split('\\n')\n",
    "src = [src for src in src if src.strip() and not src.strip().startswith('#')][0]\n",
    "statuses_df = pd.read_json(src)\n",
    "statuses = json.loads(open(src).read())"
   ]
  },
  {
   "cell_type": "code",
   "execution_count": 7,
   "metadata": {
    "collapsed": true
   },
   "outputs": [
    {
     "name": "stdout",
     "output_type": "stream",
     "text": [
      "None\n"
     ]
    }
   ],
   "source": [
    "# %%timeit\n",
    "tweets = ((status['text'], status['entities']['user_mentions'], status['entities']['hashtags'],\n",
    "           status['retweet_count'], status.get('retweeted_status'))\n",
    "                    for status in statuses)\n",
    "tweets = [\n",
    "            ( \n",
    "                pproc(texts.split()),\n",
    "                pproc([i['screen_name'] for i in user_mentions]),\n",
    "                pproc([i['text'] for i in hashtags]),\n",
    "                retweet_count,\n",
    "                pproc([retweeted_status['user']['screen_name']]) if retweeted_status else np.nan\n",
    "            )\n",
    "                for texts,user_mentions, hashtags, retweet_count, retweeted_status in tweets\n",
    "        ]\n",
    "df = dfm(tweets,columns=['texts','screen_names','hashtags','retweet_counts','retweet_screen_names']).drop_duplicates()\n",
    "# print df.to_csv(\"output.csv\",encoding='utf-8')"
   ]
  },
  {
   "cell_type": "code",
   "execution_count": 16,
   "metadata": {
    "collapsed": false
   },
   "outputs": [],
   "source": [
    "# %%timeit\n",
    "# apply works on row / column basis      axis = 0 -> col (vertical), axis = 1 -> row (horizontal)  \n",
    "# applymap works on element-wise                DataFrame\n",
    "# map works on element-wise                     Series\n",
    "tweets_words = {}\n",
    "def word_counter(col):\n",
    "    results = []\n",
    "    col.str.split(',,,').apply(results.extend)\n",
    "    tweets_words[col.name] = pd.Series(results)\n",
    "df[['texts','screen_names','hashtags']].apply(word_counter)\n",
    "print tweets_words['texts'].value_counts()"
   ]
  },
  {
   "cell_type": "code",
   "execution_count": 39,
   "metadata": {
    "collapsed": false
   },
   "outputs": [],
   "source": [
    "# A function for computing lexical diversity\n",
    "def lexical_diversity(tokens):\n",
    "    return 1.0*len(set(tokens))/len(tokens) \n",
    "\n",
    "# A function for computing the average number of words per tweet\n",
    "average_words = lambda x: sum(x.str.len()/len(x))\n",
    "\n",
    "print lexical_diversity(tweets_words['texts'])\n",
    "print lexical_diversity(tweets_words['screen_names'])\n",
    "print lexical_diversity(tweets_words['hashtags'])\n",
    "print average_words(df.texts.str.split(',,,'))"
   ]
  },
  {
   "cell_type": "code",
   "execution_count": 40,
   "metadata": {
    "collapsed": false
   },
   "outputs": [],
   "source": [
    "most_tweeted = df[df.retweet_counts!=0][['texts','screen_names','retweet_counts']]\n",
    "# most_tweeted['texts']= most_tweeted['texts'].apply(lambda x: ' '.join(x))\n",
    "# most_tweeted['screen_names']= most_tweeted['screen_names'].apply(lambda x: ' '.join(x))\n",
    "most_tweeted.drop_duplicates(inplace=True)\n",
    "most_tweeted.sort_values('retweet_counts',ascending=False,inplace=True)\n",
    "print most_tweeted"
   ]
  },
  {
   "cell_type": "code",
   "execution_count": 24,
   "metadata": {
    "collapsed": false
   },
   "outputs": [],
   "source": [
    "_retweets = twitter_api.statuses.retweets(id=317127304981667841)\n",
    "print [r['user']['screen_name'] for r in _retweets]"
   ]
  },
  {
   "cell_type": "code",
   "execution_count": 42,
   "metadata": {
    "collapsed": true
   },
   "outputs": [],
   "source": [
    "df1 = tweets_words['texts'].value_counts()\n",
    "# df1.columns.name = 'Type'\n",
    "df1.index.name = 'Word Rank'\n",
    "df1.plot(loglog=True, legend=False).set(xlabel=\"x label\", ylabel=\"Freq\")\n",
    "df1.plot(loglog=True, legend=False)"
   ]
  },
  {
   "cell_type": "code",
   "execution_count": 43,
   "metadata": {
    "collapsed": true
   },
   "outputs": [],
   "source": [
    "df1 = tweets_words['texts'].value_counts()\n",
    "for k,v in tweets_words.items():\n",
    "    v.value_counts().plot(kind='hist').set(ylabel=\"Number of items in bin\", xlabel=\"Bins (number of times an item appeared)\",title= k)\n",
    "    plt.show()"
   ]
  },
  {
   "cell_type": "code",
   "execution_count": 27,
   "metadata": {
    "collapsed": true
   },
   "outputs": [],
   "source": [
    "retweet_counts = df[df.retweet_counts!=0]['retweet_counts']\n",
    "retweet_counts.plot(kind='hist').set(ylabel=\"Number of items in bin\", xlabel=\"Bins (number of times an item appeared)\",title='retweet_counts')"
   ]
  },
  {
   "cell_type": "code",
   "execution_count": 28,
   "metadata": {
    "collapsed": true
   },
   "outputs": [],
   "source": [
    "np.log(retweet_counts).plot(kind='hist').set(ylabel=\"Number of items in bin\", xlabel=\"Bins (number of times an item appeared)\",title='log_retweet_counts')"
   ]
  },
  {
   "cell_type": "code",
   "execution_count": 38,
   "metadata": {
    "collapsed": true
   },
   "outputs": [],
   "source": [
    "from datetime import datetime as dt\n",
    "\n",
    "\n",
    "def my_decorator(orgi_fn):\n",
    "    fn_name = 'Executing %s' % orgi_fn.__name__\n",
    "\n",
    "    def new_fn(*args, **kwargs):\n",
    "        tic = dt.now()  # pre_process\n",
    "        # original_function (encapsulated with try catch)\n",
    "        try:\n",
    "            org_result = orgi_fn(*args, **kwargs)\n",
    "            org_result = 'and the ans is %s' % float(org_result)  # post process\n",
    "        except Exception as exp:\n",
    "            org_result = 'but exception found, \"%s\"' % exp\n",
    "        exe_time = dt.now() - tic\n",
    "        print '%s %s' % (exe_time, fn_name),\n",
    "        return org_result\n",
    "\n",
    "    return new_fn\n",
    "\n",
    "\n",
    "@my_decorator\n",
    "def add(x, y):\n",
    "    _ = [_ for _ in range(1000000)]  # delay use time.sleep()\n",
    "    return x + y\n",
    "\n",
    "\n",
    "@my_decorator\n",
    "def mul(x, y):\n",
    "    _ = [_ for _ in range(1000000)]  # delay\n",
    "    return x * y\n",
    "\n",
    "\n",
    "print add(5, 6)  # always return in float format\n",
    "print mul(5, 6)  # always return in float format\n",
    "print add('5', 6)  # always return in float format\n",
    "print add('5', '6')  # always return in float format"
   ]
  },
  {
   "cell_type": "code",
   "execution_count": null,
   "metadata": {
    "collapsed": true
   },
   "outputs": [],
   "source": [
    "%%timeit\n",
    "df = statuses_df\n",
    "df['text']= df.text.apply(lambda x: pproc(x.split()))\n",
    "entities = dfm.from_records(df.entities)\n",
    "hashtags = entities.hashtags.apply(lambda x: pproc([x['text'] for x in x]))\n",
    "screen_name = entities.user_mentions.apply(lambda x: pproc([x['screen_name'] for x in x]))\n",
    "retweet_screen_name = df.retweeted_status.dropna().apply(lambda x: pproc(x['user']['screen_name'].split()))\n",
    "p = ['retweet_count', 'text']\n",
    "df = pd.concat([df[['text','retweet_count']], hashtags, screen_name,retweet_screen_name],axis=1)\n",
    "df.columns = ['texts','retweet_counts','hashtags','screen_names','retweet_screen_names'] \n",
    "df = df[['texts', 'screen_names', 'hashtags', 'retweet_counts', 'retweet_screen_names']].drop_duplicates()\n",
    "\n",
    "##############################################################################################################################################\n",
    "\n",
    "%%timeit\n",
    "df = statuses_df\n",
    "def z(col):\n",
    "    nRow = pd.Series()\n",
    "    if col.name == 'text':\n",
    "        return col.apply(lambda x: pproc(x.split()))\n",
    "    elif col.name == 'entities':\n",
    "        entities = dfm.from_records(col)\n",
    "        nRow['hashtags'] = entities.hashtags.apply(lambda x: pproc([x['text'] for x in x]))\n",
    "        nRow['screen_name'] = entities.user_mentions.apply(lambda x: pproc([x['screen_name'] for x in x]))\n",
    "        return nRow\n",
    "    elif col.name == 'retweeted_status':\n",
    "        return col.dropna().apply(lambda x: pproc(x['user']['screen_name'].split()))\n",
    "    # print nRow.texts\n",
    "    \n",
    "df = df[['text','retweeted_status']].apply(z) #  ,'entities','retweeted_status'\n",
    "# print df\n",
    "\n",
    "############################################################################################################################################\n",
    "\n",
    "\n",
    "# %%timeit\n",
    "# Dead slow approch\n",
    "df = statuses_df\n",
    "def z(row):\n",
    "    nRow = pd.Series()\n",
    "    nRow['texts'] = pproc(row['text'].split(' '))\n",
    "    nRow['screen_names'] = pproc([val['screen_name'] for val in row['entities']['user_mentions']])\n",
    "    nRow['hashtags'] = pproc([val['text'] for val in row['entities']['hashtags']])\n",
    "    nRow['retweet_counts'] = row['retweet_count']\n",
    "    nRow['retweet_screen_names'] = np.nan if pd.isnull(row['retweeted_status']) else pproc(row['retweeted_status']['user']['screen_name'].split())\n",
    "    return nRow\n",
    "df = df.apply(z,axis=1)\n",
    "\n",
    "\n",
    "\n",
    "############################################################################################################################################\n",
    "\n",
    "# %%timeit\n",
    "# classic way for decoding tweet\n",
    "pproc = lambda x: ',,,'.join(x).lower()\n",
    "real = []\n",
    "for status in statuses:\n",
    "    temp = {}\n",
    "    temp['texts'] = pproc(status['text'].split())\n",
    "    temp['screen_names'] = []\n",
    "    temp['hashtags'] = []\n",
    "    temp['retweet_counts'] = status['retweet_count']\n",
    "    retweeted_status = status.get('retweeted_status')\n",
    "    if retweeted_status:\n",
    "        temp['retweet_screen_name'] = pproc([retweeted_status['user']['screen_name']])\n",
    "    \n",
    "    for user_mention in status['entities']['user_mentions']:\n",
    "        temp['screen_names'].append(user_mention['screen_name'] )\n",
    "    for hashtag in status['entities']['hashtags']:\n",
    "        temp['hashtags'].append( hashtag['text'] )\n",
    "    temp['hashtags'] = pproc(temp['hashtags'])\n",
    "    temp['screen_names'] = pproc(temp['screen_names'])\n",
    "    \n",
    "    real.append(temp)\n",
    "a = dfm(real,columns=['texts','screen_names','hashtags','retweet_counts','retweet_screen_name']).drop_duplicates()\n",
    "# print a"
   ]
  }
 ],
 "metadata": {
  "anaconda-cloud": {},
  "kernelspec": {
   "display_name": "Python [conda root]",
   "language": "python",
   "name": "conda-root-py"
  },
  "language_info": {
   "codemirror_mode": {
    "name": "ipython",
    "version": 2.0
   },
   "file_extension": ".py",
   "mimetype": "text/x-python",
   "name": "python",
   "nbconvert_exporter": "python",
   "pygments_lexer": "ipython2",
   "version": "2.7.12"
  }
 },
 "nbformat": 4,
 "nbformat_minor": 0
}