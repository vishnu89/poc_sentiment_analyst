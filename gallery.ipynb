{
 "cells": [
  {
   "cell_type": "code",
   "execution_count": 51,
   "metadata": {
    "collapsed": false
   },
   "outputs": [
    {
     "name": "stdout",
     "output_type": "stream",
     "text": [
      "Created `%t` as an alias for `%timeit`.\nCreated `%%t` as an alias for `%%timeit`.\n"
     ]
    }
   ],
   "source": [
    "%alias_magic t timeit\n",
    "%matplotlib inline\n",
    "import json,io\n",
    "import matplotlib.pyplot as plt\n",
    "import pandas as pd\n",
    "import numpy as np\n",
    "import os,sys\n",
    "from scipy import stats\n",
    "from twitter_analytics_api import *\n",
    "from datetime import datetime as dt\n",
    "# Import unquote to prevent url encoding errors in next_results\n",
    "from urllib import unquote\n",
    "sys.path.append(os.getcwd()) #sys.argv[0]\n",
    "\n",
    "# pandas settings \n",
    "pd.set_option('expand_frame_repr', False)\n",
    "pd.options.display.max_columns = 15\n",
    "pd.options.display.max_rows = 25\n",
    "pd.set_option('max_colwidth', 30)\n",
    "pd.set_option('colheader_justify', 'center')\n",
    "dfm = pd.DataFrame\n",
    "\n",
    "timer = lambda: '%s_%s_%s'%dt.utctimetuple(dt.now())[3:6]\n",
    "file_ext = lambda x: dict(to_json='.json',to_csv='.csv',to_excel='.xlsx').get(x,'')"
   ]
  },
  {
   "cell_type": "code",
   "execution_count": 52,
   "metadata": {
    "collapsed": true
   },
   "outputs": [
    {
     "ename": "NameError",
     "evalue": "global name 'statuses' is not defined",
     "traceback": [
      "\u001b[1;31m\u001b[0m",
      "\u001b[1;31mNameError\u001b[0mTraceback (most recent call last)",
      "\u001b[1;32m<ipython-input-52-c8fcb5d1fd39>\u001b[0m in \u001b[0;36m<module>\u001b[1;34m()\u001b[0m\n\u001b[1;32m----> 1\u001b[1;33m \u001b[0mget_ipython\u001b[0m\u001b[1;33m(\u001b[0m\u001b[1;33m)\u001b[0m\u001b[1;33m.\u001b[0m\u001b[0mrun_cell_magic\u001b[0m\u001b[1;33m(\u001b[0m\u001b[1;34mu'timeit'\u001b[0m\u001b[1;33m,\u001b[0m \u001b[1;34mu''\u001b[0m\u001b[1;33m,\u001b[0m \u001b[1;34mu\"tweets = ((status['text'], status['entities']['user_mentions'], status['entities']['hashtags'],\\n           status['retweet_count'], status.get('retweeted_status'))\\n                    for status in statuses)\\ntweets = [\\n            ( \\n                pproc(texts.split()),\\n                pproc([i['screen_name'] for i in user_mentions]),\\n                pproc([i['text'] for i in hashtags]),\\n                retweet_count,\\n                \\n                pproc([retweeted_status['user']['screen_name']]) if retweeted_status else np.nan\\n            )\\n                for texts,user_mentions, hashtags, retweet_count, retweeted_status in tweets\\n        ]\\ndf = dfm(tweets,columns=['texts','screen_names','hashtags','retweet_counts','retweet_screen_names']).drop_duplicates()\\n# print df\"\u001b[0m\u001b[1;33m)\u001b[0m\u001b[1;33m\u001b[0m\u001b[0m\n\u001b[0m",
      "\u001b[1;32mC:\\Python27\\lib\\site-packages\\IPython\\core\\interactiveshell.pyc\u001b[0m in \u001b[0;36mrun_cell_magic\u001b[1;34m(self, magic_name, line, cell)\u001b[0m\n\u001b[0;32m   2118\u001b[0m             \u001b[0mmagic_arg_s\u001b[0m \u001b[1;33m=\u001b[0m \u001b[0mself\u001b[0m\u001b[1;33m.\u001b[0m\u001b[0mvar_expand\u001b[0m\u001b[1;33m(\u001b[0m\u001b[0mline\u001b[0m\u001b[1;33m,\u001b[0m \u001b[0mstack_depth\u001b[0m\u001b[1;33m)\u001b[0m\u001b[1;33m\u001b[0m\u001b[0m\n\u001b[0;32m   2119\u001b[0m             \u001b[1;32mwith\u001b[0m \u001b[0mself\u001b[0m\u001b[1;33m.\u001b[0m\u001b[0mbuiltin_trap\u001b[0m\u001b[1;33m:\u001b[0m\u001b[1;33m\u001b[0m\u001b[0m\n\u001b[1;32m-> 2120\u001b[1;33m                 \u001b[0mresult\u001b[0m \u001b[1;33m=\u001b[0m \u001b[0mfn\u001b[0m\u001b[1;33m(\u001b[0m\u001b[0mmagic_arg_s\u001b[0m\u001b[1;33m,\u001b[0m \u001b[0mcell\u001b[0m\u001b[1;33m)\u001b[0m\u001b[1;33m\u001b[0m\u001b[0m\n\u001b[0m\u001b[0;32m   2121\u001b[0m             \u001b[1;32mreturn\u001b[0m \u001b[0mresult\u001b[0m\u001b[1;33m\u001b[0m\u001b[0m\n\u001b[0;32m   2122\u001b[0m \u001b[1;33m\u001b[0m\u001b[0m\n",
      "\u001b[1;32m<decorator-gen-60>\u001b[0m in \u001b[0;36mtimeit\u001b[1;34m(self, line, cell)\u001b[0m\n",
      "\u001b[1;32mC:\\Python27\\lib\\site-packages\\IPython\\core\\magic.pyc\u001b[0m in \u001b[0;36m<lambda>\u001b[1;34m(f, *a, **k)\u001b[0m\n\u001b[0;32m    191\u001b[0m     \u001b[1;31m# but it's overkill for just that one bit of state.\u001b[0m\u001b[1;33m\u001b[0m\u001b[1;33m\u001b[0m\u001b[0m\n\u001b[0;32m    192\u001b[0m     \u001b[1;32mdef\u001b[0m \u001b[0mmagic_deco\u001b[0m\u001b[1;33m(\u001b[0m\u001b[0marg\u001b[0m\u001b[1;33m)\u001b[0m\u001b[1;33m:\u001b[0m\u001b[1;33m\u001b[0m\u001b[0m\n\u001b[1;32m--> 193\u001b[1;33m         \u001b[0mcall\u001b[0m \u001b[1;33m=\u001b[0m \u001b[1;32mlambda\u001b[0m \u001b[0mf\u001b[0m\u001b[1;33m,\u001b[0m \u001b[1;33m*\u001b[0m\u001b[0ma\u001b[0m\u001b[1;33m,\u001b[0m \u001b[1;33m**\u001b[0m\u001b[0mk\u001b[0m\u001b[1;33m:\u001b[0m \u001b[0mf\u001b[0m\u001b[1;33m(\u001b[0m\u001b[1;33m*\u001b[0m\u001b[0ma\u001b[0m\u001b[1;33m,\u001b[0m \u001b[1;33m**\u001b[0m\u001b[0mk\u001b[0m\u001b[1;33m)\u001b[0m\u001b[1;33m\u001b[0m\u001b[0m\n\u001b[0m\u001b[0;32m    194\u001b[0m \u001b[1;33m\u001b[0m\u001b[0m\n\u001b[0;32m    195\u001b[0m         \u001b[1;32mif\u001b[0m \u001b[0mcallable\u001b[0m\u001b[1;33m(\u001b[0m\u001b[0marg\u001b[0m\u001b[1;33m)\u001b[0m\u001b[1;33m:\u001b[0m\u001b[1;33m\u001b[0m\u001b[0m\n",
      "\u001b[1;32mC:\\Python27\\lib\\site-packages\\IPython\\core\\magics\\execution.pyc\u001b[0m in \u001b[0;36mtimeit\u001b[1;34m(self, line, cell)\u001b[0m\n\u001b[0;32m   1039\u001b[0m             \u001b[0mnumber\u001b[0m \u001b[1;33m=\u001b[0m \u001b[1;36m1\u001b[0m\u001b[1;33m\u001b[0m\u001b[0m\n\u001b[0;32m   1040\u001b[0m             \u001b[1;32mfor\u001b[0m \u001b[0m_\u001b[0m \u001b[1;32min\u001b[0m \u001b[0mrange\u001b[0m\u001b[1;33m(\u001b[0m\u001b[1;36m1\u001b[0m\u001b[1;33m,\u001b[0m \u001b[1;36m10\u001b[0m\u001b[1;33m)\u001b[0m\u001b[1;33m:\u001b[0m\u001b[1;33m\u001b[0m\u001b[0m\n\u001b[1;32m-> 1041\u001b[1;33m                 \u001b[0mtime_number\u001b[0m \u001b[1;33m=\u001b[0m \u001b[0mtimer\u001b[0m\u001b[1;33m.\u001b[0m\u001b[0mtimeit\u001b[0m\u001b[1;33m(\u001b[0m\u001b[0mnumber\u001b[0m\u001b[1;33m)\u001b[0m\u001b[1;33m\u001b[0m\u001b[0m\n\u001b[0m\u001b[0;32m   1042\u001b[0m                 \u001b[0mworst_tuning\u001b[0m \u001b[1;33m=\u001b[0m \u001b[0mmax\u001b[0m\u001b[1;33m(\u001b[0m\u001b[0mworst_tuning\u001b[0m\u001b[1;33m,\u001b[0m \u001b[0mtime_number\u001b[0m \u001b[1;33m/\u001b[0m \u001b[0mnumber\u001b[0m\u001b[1;33m)\u001b[0m\u001b[1;33m\u001b[0m\u001b[0m\n\u001b[0;32m   1043\u001b[0m                 \u001b[1;32mif\u001b[0m \u001b[0mtime_number\u001b[0m \u001b[1;33m>=\u001b[0m \u001b[1;36m0.2\u001b[0m\u001b[1;33m:\u001b[0m\u001b[1;33m\u001b[0m\u001b[0m\n",
      "\u001b[1;32mC:\\Python27\\lib\\site-packages\\IPython\\core\\magics\\execution.pyc\u001b[0m in \u001b[0;36mtimeit\u001b[1;34m(self, number)\u001b[0m\n\u001b[0;32m    135\u001b[0m         \u001b[0mgc\u001b[0m\u001b[1;33m.\u001b[0m\u001b[0mdisable\u001b[0m\u001b[1;33m(\u001b[0m\u001b[1;33m)\u001b[0m\u001b[1;33m\u001b[0m\u001b[0m\n\u001b[0;32m    136\u001b[0m         \u001b[1;32mtry\u001b[0m\u001b[1;33m:\u001b[0m\u001b[1;33m\u001b[0m\u001b[0m\n\u001b[1;32m--> 137\u001b[1;33m             \u001b[0mtiming\u001b[0m \u001b[1;33m=\u001b[0m \u001b[0mself\u001b[0m\u001b[1;33m.\u001b[0m\u001b[0minner\u001b[0m\u001b[1;33m(\u001b[0m\u001b[0mit\u001b[0m\u001b[1;33m,\u001b[0m \u001b[0mself\u001b[0m\u001b[1;33m.\u001b[0m\u001b[0mtimer\u001b[0m\u001b[1;33m)\u001b[0m\u001b[1;33m\u001b[0m\u001b[0m\n\u001b[0m\u001b[0;32m    138\u001b[0m         \u001b[1;32mfinally\u001b[0m\u001b[1;33m:\u001b[0m\u001b[1;33m\u001b[0m\u001b[0m\n\u001b[0;32m    139\u001b[0m             \u001b[1;32mif\u001b[0m \u001b[0mgcold\u001b[0m\u001b[1;33m:\u001b[0m\u001b[1;33m\u001b[0m\u001b[0m\n",
      "\u001b[1;32m<magic-timeit>\u001b[0m in \u001b[0;36minner\u001b[1;34m(_it, _timer)\u001b[0m\n",
      "\u001b[1;31mNameError\u001b[0m: global name 'statuses' is not defined"
     ],
     "output_type": "error"
    }
   ],
   "source": [
    "%%timeit\n",
    "tweets = ((status['text'], status['entities']['user_mentions'], status['entities']['hashtags'],\n",
    "           status['retweet_count'], status.get('retweeted_status'))\n",
    "                    for status in statuses)\n",
    "tweets = [\n",
    "            ( \n",
    "                pproc(texts.split()),\n",
    "                pproc([i['screen_name'] for i in user_mentions]),\n",
    "                pproc([i['text'] for i in hashtags]),\n",
    "                retweet_count,\n",
    "                \n",
    "                pproc([retweeted_status['user']['screen_name']]) if retweeted_status else np.nan\n",
    "            )\n",
    "                for texts,user_mentions, hashtags, retweet_count, retweeted_status in tweets\n",
    "        ]\n",
    "df = dfm(tweets,columns=['texts','screen_names','hashtags','retweet_counts','retweet_screen_names']).drop_duplicates()\n",
    "# print df"
   ]
  },
  {
   "cell_type": "code",
   "execution_count": 43,
   "metadata": {
    "collapsed": true
   },
   "outputs": [],
   "source": [
    "df1 = tweets_words['texts'].value_counts()\n",
    "for k,v in tweets_words.items():\n",
    "    v.value_counts().plot(kind='hist').set(ylabel=\"Number of items in bin\", xlabel=\"Bins (number of times an item appeared)\",title= k)\n",
    "    plt.show()"
   ]
  },
  {
   "cell_type": "code",
   "execution_count": 38,
   "metadata": {
    "collapsed": true
   },
   "outputs": [],
   "source": [
    "from datetime import datetime as dt\n",
    "\n",
    "\n",
    "def my_decorator(orgi_fn):\n",
    "    fn_name = 'Executing %s' % orgi_fn.__name__\n",
    "\n",
    "    def new_fn(*args, **kwargs):\n",
    "        tic = dt.now()  # pre_process\n",
    "        # original_function (encapsulated with try catch)\n",
    "        try:\n",
    "            org_result = orgi_fn(*args, **kwargs)\n",
    "            org_result = 'and the ans is %s' % float(org_result)  # post process\n",
    "        except Exception as exp:\n",
    "            org_result = 'but exception found, \"%s\"' % exp\n",
    "        exe_time = dt.now() - tic\n",
    "        print '%s %s' % (exe_time, fn_name),\n",
    "        return org_result\n",
    "\n",
    "    return new_fn\n",
    "\n",
    "\n",
    "@my_decorator\n",
    "def add(x, y):\n",
    "    _ = [_ for _ in range(1000000)]  # delay use time.sleep()\n",
    "    return x + y\n",
    "\n",
    "\n",
    "@my_decorator\n",
    "def mul(x, y):\n",
    "    _ = [_ for _ in range(1000000)]  # delay\n",
    "    return x * y\n",
    "\n",
    "\n",
    "print add(5, 6)  # always return in float format\n",
    "print mul(5, 6)  # always return in float format\n",
    "print add('5', 6)  # always return in float format\n",
    "print add('5', '6')  # always return in float format"
   ]
  },
  {
   "cell_type": "code",
   "execution_count": null,
   "metadata": {
    "collapsed": true
   },
   "outputs": [],
   "source": [
    "%%timeit\n",
    "df = statuses_df\n",
    "df['text']= df.text.apply(lambda x: pproc(x.split()))\n",
    "entities = dfm.from_records(df.entities)\n",
    "hashtags = entities.hashtags.apply(lambda x: pproc([x['text'] for x in x]))\n",
    "screen_name = entities.user_mentions.apply(lambda x: pproc([x['screen_name'] for x in x]))\n",
    "retweet_screen_name = df.retweeted_status.dropna().apply(lambda x: pproc(x['user']['screen_name'].split()))\n",
    "p = ['retweet_count', 'text']\n",
    "df = pd.concat([df[['text','retweet_count']], hashtags, screen_name,retweet_screen_name],axis=1)\n",
    "df.columns = ['texts','retweet_counts','hashtags','screen_names','retweet_screen_names'] \n",
    "df = df[['texts', 'screen_names', 'hashtags', 'retweet_counts', 'retweet_screen_names']].drop_duplicates()\n",
    "\n",
    "##############################################################################################################################################\n",
    "\n",
    "%%timeit\n",
    "df = statuses_df\n",
    "def z(col):\n",
    "    nRow = pd.Series()\n",
    "    if col.name == 'text':\n",
    "        return col.apply(lambda x: pproc(x.split()))\n",
    "    elif col.name == 'entities':\n",
    "        entities = dfm.from_records(col)\n",
    "        nRow['hashtags'] = entities.hashtags.apply(lambda x: pproc([x['text'] for x in x]))\n",
    "        nRow['screen_name'] = entities.user_mentions.apply(lambda x: pproc([x['screen_name'] for x in x]))\n",
    "        return nRow\n",
    "    elif col.name == 'retweeted_status':\n",
    "        return col.dropna().apply(lambda x: pproc(x['user']['screen_name'].split()))\n",
    "    # print nRow.texts\n",
    "    \n",
    "df = df[['text','retweeted_status']].apply(z) #  ,'entities','retweeted_status'\n",
    "# print df\n",
    "\n",
    "############################################################################################################################################\n",
    "\n",
    "\n",
    "# %%timeit\n",
    "# Dead slow approch\n",
    "df = statuses_df\n",
    "def z(row):\n",
    "    nRow = pd.Series()\n",
    "    nRow['texts'] = pproc(row['text'].split(' '))\n",
    "    nRow['screen_names'] = pproc([val['screen_name'] for val in row['entities']['user_mentions']])\n",
    "    nRow['hashtags'] = pproc([val['text'] for val in row['entities']['hashtags']])\n",
    "    nRow['retweet_counts'] = row['retweet_count']\n",
    "    nRow['retweet_screen_names'] = np.nan if pd.isnull(row['retweeted_status']) else pproc(row['retweeted_status']['user']['screen_name'].split())\n",
    "    return nRow\n",
    "df = df.apply(z,axis=1)\n",
    "\n",
    "\n",
    "\n",
    "############################################################################################################################################\n",
    "\n",
    "# %%timeit\n",
    "# classic way for decoding tweet\n",
    "pproc = lambda x: ',,,'.join(x).lower()\n",
    "real = []\n",
    "for status in statuses:\n",
    "    temp = {}\n",
    "    temp['texts'] = pproc(status['text'].split())\n",
    "    temp['screen_names'] = []\n",
    "    temp['hashtags'] = []\n",
    "    temp['retweet_counts'] = status['retweet_count']\n",
    "    retweeted_status = status.get('retweeted_status')\n",
    "    if retweeted_status:\n",
    "        temp['retweet_screen_name'] = pproc([retweeted_status['user']['screen_name']])\n",
    "    \n",
    "    for user_mention in status['entities']['user_mentions']:\n",
    "        temp['screen_names'].append(user_mention['screen_name'] )\n",
    "    for hashtag in status['entities']['hashtags']:\n",
    "        temp['hashtags'].append( hashtag['text'] )\n",
    "    temp['hashtags'] = pproc(temp['hashtags'])\n",
    "    temp['screen_names'] = pproc(temp['screen_names'])\n",
    "    \n",
    "    real.append(temp)\n",
    "a = dfm(real,columns=['texts','screen_names','hashtags','retweet_counts','retweet_screen_name']).drop_duplicates()\n",
    "# print a"
   ]
  },
  {
   "cell_type": "heading",
   "metadata": {},
   "level": 1,
   "source": [
    "# z score $z =  (X - µ) / σ $"
   ]
  },
  {
   "cell_type": "code",
   "execution_count": 67,
   "metadata": {},
   "outputs": [
    {
     "name": "stdout",
     "output_type": "stream",
     "text": [
      "[-1.37607733 -0.9852388   1.55521165 -2.35317365 -0.30127137 -0.30127137\n  0.77353459  0.67582496  0.87124422  0.1872768  -0.00814247  0.87124422\n -1.66920622 -0.88752916 -0.1058521   0.1872768   0.77353459 -0.20356173\n -0.00814247  1.26208276 -1.08294843  0.77353459 -0.49669063 -0.6921099\n  0.28498643 -0.6921099  -1.27836769  1.06666349 -0.88752916 -0.398981\n  0.77353459  1.84834055  0.28498643  0.77353459 -1.66920622 -0.88752916\n -2.64630255 -0.00814247  0.96895386  0.48040569  1.26208276 -0.30127137\n -1.27836769  1.75063092 -0.88752916  0.67582496  0.77353459  1.16437312\n -0.1058521   0.87124422  1.65292129  0.67582496  0.08956716 -0.9852388\n -0.88752916 -0.398981   -0.1058521  -0.30127137 -0.398981    1.26208276]\n0.0911019282654\n0.841621233573\n"
     ]
    },
    {
     "data": {
      "image/png": "[encoded data removed]",
      "text/plain": [
       "<matplotlib.figure.Figure at 0xdc52048>"
      ]
     },
     "metadata": {},
     "output_type": "display_data"
    }
   ],
   "source": [
    "classscore = np.random.normal(50, 10, 60).round()\n",
    "classscore = [36.0, 40.0, 66.0, 26.0, 47.0, 47.0, 58.0, 57.0, 59.0, 52.0, 50.0, 59.0, 33.0, 41.0, 49.0, 52.0, 58.0, 48.0, 50.0, 63.0, 39.0, 58.0, 45.0, 43.0, 53.0, 43.0, 37.0, 61.0, 41.0, 46.0, 58.0, 69.0, 53.0, 58.0, 33.0, 41.0, 23.0, 50.0, 60.0, 55.0, 63.0, 47.0, 37.0, 68.0, 41.0, 57.0, 58.0, 62.0, 49.0, 59.0, 67.0, 57.0, 51.0, 40.0, 41.0, 46.0, 49.0, 47.0, 46.0, 63.0]\n",
    "plt.hist(classscore, 30, normed=True) #Number of breaks is 30\n",
    "print stats.zscore(classscore)\n",
    "print 1 - stats.norm.cdf(1.334)\n",
    "print stats.norm.ppf(0.80)"
   ]
  },
  {
   "cell_type": "code",
   "execution_count": 68,
   "metadata": {},
   "outputs": [
    {
     "name": "stdout",
     "output_type": "stream",
     "text": [
      "        0   \n0  -1.376077\n1  -0.985239\n2   1.555212\n3  -2.353174\n4  -0.301271\n5  -0.301271\n6   0.773535\n7   0.675825\n8   0.871244\n9   0.187277\n10 -0.008142\n11  0.871244\n..       ...\n48 -0.105852\n49  0.871244\n50  1.652921\n51  0.675825\n52  0.089567\n53 -0.985239\n54 -0.887529\n55 -0.398981\n56 -0.105852\n57 -0.301271\n58 -0.398981\n59  1.262083\n\n[60 rows x 1 columns]\n0.0911019282654\n0.841621233573\n"
     ]
    },
    {
     "data": {
      "image/png": "[encoded data removed]",
      "text/plain": [
       "<matplotlib.figure.Figure at 0xe0fe5f8>"
      ]
     },
     "metadata": {},
     "output_type": "display_data"
    }
   ],
   "source": [
    "classscore = [36.0, 40.0, 66.0, 26.0, 47.0, 47.0, 58.0, 57.0, 59.0, 52.0, 50.0, 59.0, 33.0, 41.0, 49.0, 52.0, 58.0, 48.0, 50.0, 63.0, 39.0, 58.0, 45.0, 43.0, 53.0, 43.0, 37.0, 61.0, 41.0, 46.0, 58.0, 69.0, 53.0, 58.0, 33.0, 41.0, 23.0, 50.0, 60.0, 55.0, 63.0, 47.0, 37.0, 68.0, 41.0, 57.0, 58.0, 62.0, 49.0, 59.0, 67.0, 57.0, 51.0, 40.0, 41.0, 46.0, 49.0, 47.0, 46.0, 63.0]\n",
    "classscore = dfm(classscore)\n",
    "classscore.plot.hist(bins=30, normed=True) #Number of breaks is 30\n",
    "print classscore.apply(stats.zscore)\n",
    "print 1 - stats.norm.cdf(1.334)\n",
    "print stats.norm.ppf(0.80)"
   ]
  },
  {
   "cell_type": "code",
   "execution_count": 40,
   "metadata": {},
   "outputs": [],
   "source": [
    "(0.84 * classscore.std()) + classscore.mean()"
   ]
  },
  {
   "cell_type": "code",
   "execution_count": 42,
   "metadata": {},
   "outputs": [],
   "source": [
    "zscore = ( 68 - classscore.mean() ) / classscore.std()\n",
    "zscore"
   ]
  },
  {
   "cell_type": "code",
   "execution_count": 44,
   "metadata": {},
   "outputs": [],
   "source": [
    "prob = 1 - stats.norm.cdf(zscore)\n",
    "prob"
   ]
  },
  {
   "cell_type": "code",
   "execution_count": 46,
   "metadata": {},
   "outputs": [],
   "source": [
    "zscore = ( 53 - 60 ) / 3.0\n",
    "zscore"
   ]
  },
  {
   "cell_type": "code",
   "execution_count": null,
   "metadata": {},
   "outputs": [],
   "source": [
    ""
   ]
  }
 ],
 "metadata": {
  "anaconda-cloud": {},
  "kernelspec": {
   "display_name": "Python [conda root]",
   "language": "python",
   "name": "conda-root-py"
  },
  "language_info": {
   "codemirror_mode": {
    "name": "ipython",
    "version": 2.0
   },
   "file_extension": ".py",
   "mimetype": "text/x-python",
   "name": "python",
   "nbconvert_exporter": "python",
   "pygments_lexer": "ipython2",
   "version": "2.7.12"
  }
 },
 "nbformat": 4,
 "nbformat_minor": 0
}